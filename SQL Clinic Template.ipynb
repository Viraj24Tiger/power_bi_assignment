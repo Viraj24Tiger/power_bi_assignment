{
 "cells": [
  {
   "cell_type": "markdown",
   "id": "c7183823",
   "metadata": {},
   "source": [
    "# Importing Libraries"
   ]
  },
  {
   "cell_type": "code",
   "execution_count": null,
   "id": "507c8a55",
   "metadata": {},
   "outputs": [],
   "source": [
    "import numpy as np\n",
    "import pandas as pd\n",
    "import sqlite3\n",
    "import csv\n",
    "import os\n",
    "import glob"
   ]
  },
  {
   "cell_type": "markdown",
   "id": "7fc5348e",
   "metadata": {},
   "source": [
    "# Setting up the input folder and files"
   ]
  },
  {
   "cell_type": "markdown",
   "id": "3533f90a",
   "metadata": {},
   "source": [
    "### Input folder location here"
   ]
  },
  {
   "cell_type": "code",
   "execution_count": null,
   "id": "df78a889",
   "metadata": {},
   "outputs": [],
   "source": [
    "InputFolder=\"Input location here with / seperator\""
   ]
  },
  {
   "cell_type": "markdown",
   "id": "429f6940",
   "metadata": {},
   "source": [
    "# Importing the files"
   ]
  },
  {
   "cell_type": "code",
   "execution_count": null,
   "id": "6d042656",
   "metadata": {},
   "outputs": [],
   "source": [
    "path = InputFolder\n",
    "extension = 'csv'\n",
    "os.chdir(path)\n",
    "result = glob.glob('*.{}'.format(extension))"
   ]
  },
  {
   "cell_type": "code",
   "execution_count": null,
   "id": "aeeb9d91",
   "metadata": {},
   "outputs": [],
   "source": [
    "def extract_name_files(text): # removes .csv from the name of each file\n",
    "    name_file = text.strip('.csv').lower()\n",
    "    return name_file"
   ]
  },
  {
   "cell_type": "code",
   "execution_count": null,
   "id": "f5cb7269",
   "metadata": {},
   "outputs": [],
   "source": [
    "names_of_files = list(map(extract_name_files,result)) # creates a list that will be used to name your dataframes\n",
    "for i in range(0,len(names_of_files)):\n",
    "    names_of_files[i]=names_of_files[i].replace(\" \",\"_\")"
   ]
  },
  {
   "cell_type": "code",
   "execution_count": null,
   "id": "7fb73036",
   "metadata": {},
   "outputs": [],
   "source": [
    "for i in range(0,len(names_of_files)): # saves each csv in a dataframe structure\n",
    "    exec(names_of_files[i] + \" =  pd.read_csv('\"+InputFolder+'/'+result[i]+\"',encoding='ISO-8859-1')\")"
   ]
  },
  {
   "cell_type": "code",
   "execution_count": null,
   "id": "e7930af9",
   "metadata": {},
   "outputs": [],
   "source": [
    "alldfs=[]\n",
    "for var in dir():\n",
    "    if isinstance(locals()[var], pd.core.frame.DataFrame)  and var[0]!='_':\n",
    "        alldfs.append(var)"
   ]
  },
  {
   "cell_type": "code",
   "execution_count": null,
   "id": "1a907bf9",
   "metadata": {},
   "outputs": [],
   "source": [
    "table_names=[]\n",
    "col_names=[]\n",
    "for i in range(0,len(alldfs)): \n",
    "    table_names.append(alldfs[i])\n",
    "    exec(alldfs[i]+\".columns=\"+alldfs[i]+\".columns.str.replace(' ' , '_')\")\n",
    "    temp=eval(alldfs[i])\n",
    "    temp=(','.join(temp.columns.values))\n",
    "    col_names.append(temp)"
   ]
  },
  {
   "cell_type": "markdown",
   "id": "3ce8a40d",
   "metadata": {},
   "source": [
    "# Initialize SQL Database Instance"
   ]
  },
  {
   "cell_type": "code",
   "execution_count": null,
   "id": "578e3bf5",
   "metadata": {},
   "outputs": [],
   "source": [
    "conn = sqlite3.connect('test_database')\n",
    "c = conn.cursor()"
   ]
  },
  {
   "cell_type": "markdown",
   "id": "95d42e7c",
   "metadata": {},
   "source": [
    "# Create a database of all the dataframes as SQL tables"
   ]
  },
  {
   "cell_type": "code",
   "execution_count": null,
   "id": "97ca8e8d",
   "metadata": {},
   "outputs": [],
   "source": [
    "for i in range(0,len(table_names)):\n",
    "    c.execute('CREATE TABLE IF NOT EXISTS '+ table_names[i] +' ('+col_names[i]+');')\n",
    "    conn.commit()\n",
    "    exec(table_names[i]+\".to_sql('\"+table_names[i]+\"', conn, if_exists='replace', index = False)\")"
   ]
  },
  {
   "cell_type": "markdown",
   "id": "c9d931b6",
   "metadata": {},
   "source": [
    "### List all the tables in database (ignore table_0)"
   ]
  },
  {
   "cell_type": "code",
   "execution_count": null,
   "id": "d8882725",
   "metadata": {},
   "outputs": [],
   "source": [
    "c.execute(\"SELECT name FROM sqlite_master WHERE type='table';\")\n",
    "print(c.fetchall())"
   ]
  },
  {
   "cell_type": "markdown",
   "id": "95e15b05",
   "metadata": {},
   "source": [
    "# Write SQL Query"
   ]
  },
  {
   "cell_type": "code",
   "execution_count": null,
   "id": "ee7716c9",
   "metadata": {},
   "outputs": [],
   "source": [
    "c.execute('''\n",
    "\n",
    "Write SQL Query here\n",
    "\n",
    "''')"
   ]
  },
  {
   "cell_type": "code",
   "execution_count": null,
   "id": "16ac68ac",
   "metadata": {},
   "outputs": [],
   "source": [
    "#Mention the column names of the output table to view the result\n",
    "df = pd.DataFrame(c.fetchall(), columns = [])\n",
    "df"
   ]
  },
  {
   "cell_type": "code",
   "execution_count": null,
   "id": "c0e5023f",
   "metadata": {},
   "outputs": [],
   "source": [
    "df = pd.read_sql_query(\"\"\"\n",
    "\n",
    "Write SQL Query here\n",
    "\n",
    "\"\"\", conn)\n",
    "df"
   ]
  },
  {
   "cell_type": "code",
   "execution_count": null,
   "id": "5574f011",
   "metadata": {},
   "outputs": [],
   "source": [
    "conn.close"
   ]
  }
 ],
 "metadata": {
  "kernelspec": {
   "display_name": "Python 3 (ipykernel)",
   "language": "python",
   "name": "python3"
  },
  "language_info": {
   "codemirror_mode": {
    "name": "ipython",
    "version": 3
   },
   "file_extension": ".py",
   "mimetype": "text/x-python",
   "name": "python",
   "nbconvert_exporter": "python",
   "pygments_lexer": "ipython3",
   "version": "3.9.12"
  }
 },
 "nbformat": 4,
 "nbformat_minor": 5
}
